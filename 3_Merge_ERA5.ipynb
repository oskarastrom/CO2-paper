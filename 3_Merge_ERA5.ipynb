{
 "cells": [
  {
   "cell_type": "code",
   "execution_count": null,
   "metadata": {},
   "outputs": [],
   "source": [
    "import sys\n",
    "import os\n",
    "import matplotlib.pyplot as plt\n",
    "import pandas as pd\n",
    "import numpy as np\n",
    "import geopandas as gpd\n",
    "from datetime import datetime\n",
    "import xgboost as xgb\n",
    "import seaborn as sns\n",
    "import itertools\n",
    "import xarray as xr\n",
    "\n",
    "import sklearn.metrics\n",
    "from tqdm import tqdm"
   ]
  },
  {
   "cell_type": "code",
   "execution_count": null,
   "metadata": {},
   "outputs": [],
   "source": [
    "df = pd.read_feather(\"data/merged_data.feather\")"
   ]
  },
  {
   "cell_type": "markdown",
   "metadata": {},
   "source": [
    "# Full Run"
   ]
  },
  {
   "cell_type": "code",
   "execution_count": null,
   "metadata": {},
   "outputs": [],
   "source": [
    "\n",
    "timefomat = '%Y-%m-%d %H:%M:%S'\n",
    "\n",
    "months = [\"Jan\", \"Feb\", \"Mar\", \"Apr\", \"May\", \"Jun\", \"Jul\", \"Aug\", \"Sep\", \"Oct\", \"Nov\", \"Dec\"]\n",
    "date_path = lambda yr, mth: \"data/raw/era5/era5_\" + str(yr) + \"_\" + months[int(mth) - 1] + \"_Europe.nc\"\n",
    "\n",
    "year = 2014\n",
    "month = 1\n",
    "\n",
    "while True:\n",
    "    print(\"Doing\", str(year), months[int(month) - 1])\n",
    "\n",
    "    # Load weather data\n",
    "    print(\"Loading weather\")\n",
    "    wdf = pd.DataFrame()\n",
    "    dataset = xr.open_dataset(date_path(year, month))\n",
    "    wdf = pd.concat([wdf, dataset.to_dataframe().reset_index()])\n",
    "    wdf\n",
    "\n",
    "\n",
    "    # Filter only relevant parts of data frame\n",
    "    print(\"Filter dataframe\")\n",
    "    lat_range = (min(wdf['latitude']), max(wdf['latitude']))\n",
    "    lon_range = (min(wdf['longitude']), max(wdf['longitude']))\n",
    "    time_range = (min(wdf['time']), max(wdf['time']))\n",
    "\n",
    "    dates = df['datetime']#pd.to_datetime(df['datetime'], format='%Y-%m-%d %H:%M:%S')\n",
    "    df18 = df[(dates > time_range[0].strftime(timefomat)) & (dates < time_range[1].strftime(timefomat))]\n",
    "    df18 = df18[(lat_range[0] < df18['lat']) & (df18['lat'] < lat_range[1])]\n",
    "    df18 = df18[(lon_range[0] < df18['lon']) & (df18['lon'] < lon_range[1])]\n",
    "    df18\n",
    "\n",
    "    # Get closest dates\n",
    "    print(\"Find Nearest weather\")\n",
    "    mn_lat = min(wdf['latitude'])\n",
    "    lat = np.round((df18['lat'] - mn_lat)*4)/4 + mn_lat\n",
    "    mn_lon = min(wdf['longitude'])\n",
    "    lon = np.round((df18['lon'] - mn_lon)*4)/4 + mn_lon\n",
    "    dates = pd.to_datetime(df18['datetime'], format=\"%Y-%m-%d %H:%M:%S\")\n",
    "    date = dates.dt.round(\"H\").dt.strftime(\"%Y-%m-%d %H:%M:%S\")\n",
    "\n",
    "    masks = {'latitude': {}, 'longitude': {}, 'time': {}}\n",
    "    cols = [d for d in wdf.columns if d not in [\"longitude\", \"latitude\", \"time\"]]\n",
    "\n",
    "    def get_mask(kind, key):\n",
    "        if key in masks[kind]: return masks[kind][key]\n",
    "        mask = wdf[kind] == key\n",
    "        masks[kind][key] = mask\n",
    "        return mask\n",
    "\n",
    "    for idx in tqdm(df18.index):\n",
    "        mini_df = wdf.loc[get_mask('latitude', lat.loc[idx]) & get_mask('longitude', lon.loc[idx]) & get_mask('time', date.loc[idx])]\n",
    "        df18.loc[idx, cols] = mini_df.loc[:, cols].values\n",
    "\n",
    "    print(\"Saving data\")\n",
    "    df.loc[df18.index, df18.columns] = df18\n",
    "\n",
    "    df.to_feather(\"data/merged_with_weather.feather\")\n",
    "\n",
    "    month += 1\n",
    "    if month > 12: \n",
    "        month = 1\n",
    "        year += 1\n",
    "        if year >= 2017:\n",
    "            break"
   ]
  }
 ],
 "metadata": {
  "kernelspec": {
   "display_name": "Python 3",
   "language": "python",
   "name": "python3"
  },
  "language_info": {
   "codemirror_mode": {
    "name": "ipython",
    "version": 3
   },
   "file_extension": ".py",
   "mimetype": "text/x-python",
   "name": "python",
   "nbconvert_exporter": "python",
   "pygments_lexer": "ipython3",
   "version": "3.12.0"
  }
 },
 "nbformat": 4,
 "nbformat_minor": 2
}
