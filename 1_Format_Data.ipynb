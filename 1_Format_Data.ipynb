{
 "cells": [
  {
   "cell_type": "code",
   "execution_count": 32,
   "metadata": {},
   "outputs": [],
   "source": [
    "import sys\n",
    "import os\n",
    "import matplotlib.pyplot as plt\n",
    "import pandas as pd\n",
    "import numpy as np\n",
    "import geopandas as gpd\n",
    "from datetime import datetime\n",
    "from tqdm import tqdm"
   ]
  },
  {
   "cell_type": "code",
   "execution_count": 33,
   "metadata": {},
   "outputs": [
    {
     "name": "stdout",
     "output_type": "stream",
     "text": [
      "OCO2 Index(['lat', 'lon', 'datetime', 'xco2'], dtype='object')\n",
      "ICOS Index(['station', 'lat', 'lon', 'start_time', 'value', 'value_std_dev',\n",
      "       '10m_u-component_of_wind', '10m_v-component_of_wind',\n",
      "       'surface_pressure', 'temperature_2m', 'cloud_base_height',\n",
      "       'total_cloud_cover', 'vertical_integral_of_temperature',\n",
      "       'total_column_water_vapour'],\n",
      "      dtype='object')\n"
     ]
    }
   ],
   "source": [
    "OCO2_filename = 'data/raw/OCO2_Europe_good_data.csv'\n",
    "ICOS_filename = 'data/raw/ICOS_CO2_weather_euOct282023.csv'\n",
    "\n",
    "# Load datasets\n",
    "OCO2_df = pd.read_csv(OCO2_filename)\n",
    "ICOS_df = pd.read_csv(ICOS_filename)\n",
    "\n",
    "\n",
    "# drop quality flag now - since data is now quality verified\n",
    "OCO2_df = OCO2_df.drop('xco2_quality_flag',axis=1)\n",
    "\n",
    "# rename oco2 coords to lat and lon\n",
    "OCO2_df = OCO2_df.rename(columns={\"latitude\": \"lat\", \"longitude\": \"lon\"})\n",
    "\n",
    "\n",
    "#print(df.to_string())\n",
    "print(\"OCO2\", OCO2_df.columns)\n",
    "print(\"ICOS\", ICOS_df.columns)"
   ]
  },
  {
   "cell_type": "code",
   "execution_count": 36,
   "metadata": {},
   "outputs": [
    {
     "name": "stdout",
     "output_type": "stream",
     "text": [
      "Earliest Year: 2014\n"
     ]
    }
   ],
   "source": [
    "earliest_date = min(min(OCO2_df['datetime']), min(ICOS_df['start_time']))\n",
    "print(\"Earliest Year:\", int(earliest_date.split(\"-\")[0]))"
   ]
  },
  {
   "cell_type": "code",
   "execution_count": 37,
   "metadata": {},
   "outputs": [],
   "source": [
    "def format_time(df, time_field):\n",
    "    dates = []\n",
    "    N =  len(df[time_field])\n",
    "    for t in tqdm(df[time_field]):\n",
    "        dates.append((datetime.strptime(t, \"%Y-%m-%d %H:%M:%S\") - datetime(2014, 1, 1)).total_seconds()/3600)\n",
    "    df['hours_since_2014_1_1'] = dates\n",
    "    return df"
   ]
  },
  {
   "cell_type": "code",
   "execution_count": 38,
   "metadata": {},
   "outputs": [
    {
     "name": "stderr",
     "output_type": "stream",
     "text": [
      "  0%|          | 0/685712 [00:00<?, ?it/s]"
     ]
    },
    {
     "name": "stderr",
     "output_type": "stream",
     "text": [
      "100%|██████████| 685712/685712 [00:04<00:00, 143120.11it/s]\n",
      "100%|██████████| 20847020/20847020 [02:24<00:00, 144612.41it/s]\n"
     ]
    }
   ],
   "source": [
    "ICOS_df = format_time(ICOS_df, 'start_time')\n",
    "OCO2_df = format_time(OCO2_df, 'datetime')"
   ]
  },
  {
   "cell_type": "code",
   "execution_count": 39,
   "metadata": {},
   "outputs": [],
   "source": [
    "os.makedirs(\"data/formatted\", exist_ok=True)\n",
    "ICOS_df.to_feather(\"data/formatted/ICOS_formatted.feather\")\n",
    "OCO2_df.to_feather(\"data/formatted/OCO2_formatted.feather\")"
   ]
  }
 ],
 "metadata": {
  "kernelspec": {
   "display_name": "Python 3",
   "language": "python",
   "name": "python3"
  },
  "language_info": {
   "codemirror_mode": {
    "name": "ipython",
    "version": 3
   },
   "file_extension": ".py",
   "mimetype": "text/x-python",
   "name": "python",
   "nbconvert_exporter": "python",
   "pygments_lexer": "ipython3",
   "version": "3.12.0"
  }
 },
 "nbformat": 4,
 "nbformat_minor": 2
}
